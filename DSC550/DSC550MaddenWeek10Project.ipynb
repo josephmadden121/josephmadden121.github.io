{
 "cells": [
  {
   "cell_type": "code",
   "execution_count": null,
   "id": "42927277",
   "metadata": {},
   "outputs": [],
   "source": [
    "Final Term Prjoect "
   ]
  },
  {
   "cell_type": "raw",
   "id": "a1019b27",
   "metadata": {},
   "source": [
    "Introduction"
   ]
  },
  {
   "cell_type": "markdown",
   "id": "fd062d75",
   "metadata": {},
   "source": [
    "In this section, I explored the application of the K-means clustering algorithm to group loans based on the 'loan_amount' column in the \"Loan_Default.csv\" dataset. Clustering is an unsupervised learning technique that aims to discover patterns and structure in the data without the need for labeled outcomes. By clustering loans based on loan amounts, I can gain insights into different loan patterns and identify distinct groups of loans based on their amounts. In the realm of financial institutions, one of the most pressing challenges is the risk associated with loan defaults. Lending money is the lifeblood of the financial industry, and ensuring the repayment of loans is crucial for sustaining a healthy economic ecosystem. However, not all borrowers are able to fulfill their obligations, leading to financial losses for lenders. This is where the predictive power of data science comes into play, with the potential to revolutionize how financial institutions manage and mitigate loan default risks."
   ]
  },
  {
   "cell_type": "code",
   "execution_count": null,
   "id": "457c4115",
   "metadata": {},
   "outputs": [],
   "source": [
    "The Problem"
   ]
  },
  {
   "cell_type": "markdown",
   "id": "5780ab5f",
   "metadata": {},
   "source": [
    "The problem at hand revolves around predicting whether a borrower is likely to default on their loan payments. Defaulting on a loan occurs when a borrower fails to make scheduled payments within a specified timeframe. This problem is of paramount importance because loan defaults can have significant negative consequences, affecting the lender's profitability, stability, and even leading to systemic financial crises. Accurate loan default prediction can aid lenders in making informed decisions about whether to approve a loan application, how much credit to extend, and at what interest rate."
   ]
  },
  {
   "cell_type": "code",
   "execution_count": null,
   "id": "701fc9ed",
   "metadata": {},
   "outputs": [],
   "source": [
    "Importance and Utility of Solving the Problem"
   ]
  },
  {
   "cell_type": "markdown",
   "id": "15120c2e",
   "metadata": {},
   "source": [
    "The significance of solving the loan default prediction problem cannot be overstated. By leveraging historical data and advanced machine learning techniques, lenders can enhance their risk assessment capabilities, resulting in several crucial benefits.\n",
    "\n",
    "Risk Mitigation: Accurate prediction of loan defaults empowers lenders to identify high-risk borrowers and adjust lending terms accordingly, reducing the likelihood of financial losses.\n",
    "\n",
    "Optimized Lending: Precise risk assessment enables lenders to make more informed lending decisions, ensuring that credit is extended to borrowers who are likely to repay, thus fostering responsible lending practices.\n",
    "\n",
    "Operational Efficiency: Automated loan default prediction systems streamline and expedite the loan approval process, saving time and resources for both lenders and borrowers.\n",
    "\n",
    "Regulatory Compliance: Many financial institutions are subject to regulatory requirements regarding risk management. Effective loan default prediction aids in meeting these regulatory demands."
   ]
  },
  {
   "cell_type": "code",
   "execution_count": null,
   "id": "99a4f0aa",
   "metadata": {},
   "outputs": [],
   "source": [
    "Gaining Stakeholder Buy-In"
   ]
  },
  {
   "cell_type": "markdown",
   "id": "21c8ed73",
   "metadata": {},
   "source": [
    "To gain buy-in from stakeholders, a compelling pitch can be crafted.\n",
    "\n",
    "Dear stakeholders, our financial institution stands at the threshold of a transformative opportunity. By harnessing the power of data and predictive analytics, we can revolutionize how we manage loan default risks. Imagine a future where our lending decisions are not just informed by historical trends, but are guided by intelligent algorithms that assess a borrower's likelihood of defaulting with unprecedented accuracy. This isn't just about maximizing profits; it's about responsible lending, operational efficiency, and regulatory compliance. By embracing this initiative, we position ourselves as industry leaders committed to safeguarding our financial health and contributing to a stable economic landscape."
   ]
  },
  {
   "cell_type": "code",
   "execution_count": null,
   "id": "68385b85",
   "metadata": {},
   "outputs": [],
   "source": [
    "Data Source"
   ]
  },
  {
   "cell_type": "markdown",
   "id": "1cd9cd25",
   "metadata": {},
   "source": [
    "The data used for this project was sourced from Loan_Default.csv. It comprises a comprehensive collection of historical loan applications, including borrower characteristics, credit scores, loan amounts, employment status, and repayment outcomes. This data forms the foundation upon which our predictive models will be trained, enabling us to unlock insights that can reshape how we approach loan approvals and risk management.\n",
    "\n",
    "In conclusion, the loan default prediction problem is a pivotal challenge for financial institutions. By addressing this issue, we not only fortify our institution against financial setbacks but also pave the way for more responsible lending practices and enhanced operational efficiency."
   ]
  },
  {
   "cell_type": "code",
   "execution_count": null,
   "id": "3e3ae909",
   "metadata": {},
   "outputs": [],
   "source": [
    "Milestone 1: Exploratory Data Analysis (EDA)"
   ]
  },
  {
   "cell_type": "markdown",
   "id": "e2f74204",
   "metadata": {},
   "source": [
    "Exploratory Data Analysis is the foundational step in understanding and familiarizing ourselves with the Loan_Default.csv dataset. This phase involves:\n",
    "\n",
    "Data Inspection: Loading the dataset and gaining an overview of its structure, including the number of records, features, and data types.\n",
    "\n",
    "Data Cleaning: Identifying and handling missing values, duplicate entries, and outliers that could potentially skew the analysis and modeling process.\n",
    "\n",
    "Descriptive Statistics: Calculating summary statistics, such as mean, median, and standard deviation, to understand the central tendencies and distributions of the variables.\n",
    "Data Visualization: Creating meaningful visualizations, such as histograms, box plots, and correlation matrices, to uncover patterns, relationships, and potential insights in the data.\n",
    "\n",
    "Feature Analysis: Investigating the significance of individual features with respect to the target variable (loan default) to identify potentially important predictors."
   ]
  },
  {
   "cell_type": "code",
   "execution_count": null,
   "id": "36bd9764",
   "metadata": {},
   "outputs": [],
   "source": [
    "Milestone 2: Data Preparation"
   ]
  },
  {
   "cell_type": "markdown",
   "id": "e41db367",
   "metadata": {},
   "source": [
    "Data preparation involves transforming the dataset into a suitable format for model building and evaluation.\n",
    "\n",
    "Feature Engineering: Creating new features, transforming variables, and encoding categorical data to enhance the predictive power of the model.\n",
    "\n",
    "Feature Scaling: Standardizing or normalizing numerical features to ensure they are on a comparable scale, which aids in model convergence and performance.\n",
    "\n",
    "Train-Test Split: Dividing the dataset into training and testing subsets to enable model training and unbiased evaluation.\n",
    "\n",
    "Handling Imbalanced Data: Addressing class imbalance if present, using techniques like oversampling, undersampling, or synthetic data generation."
   ]
  },
  {
   "cell_type": "code",
   "execution_count": null,
   "id": "34a94840",
   "metadata": {},
   "outputs": [],
   "source": [
    "Milestone 3: Model Building and Evaluation"
   ]
  },
  {
   "cell_type": "markdown",
   "id": "924c6b2e",
   "metadata": {},
   "source": [
    "In this phase, I constructed predictive models and assess their performance.\n",
    "\n",
    "Model Selection: Choosing appropriate algorithms for loan default prediction, such as logistic regression, random forest, gradient boosting, or support vector machines.\n",
    "\n",
    "Model Training: Training selected models using the training dataset, tuning hyperparameters to optimize their performance.\n",
    "\n",
    "Model Evaluation: Assessing models' performance using evaluation metrics like accuracy, precision, recall, F1-score, and ROC-AUC. Cross-validation techniques may be employed to ensure robustness.\n",
    "\n",
    "Visualizing Results: Creating visualizations like ROC curves, precision-recall curves, and confusion matrices to visualize the models' performance and compare different algorithms.\n",
    "\n",
    "Model Interpretation: Examining feature importances to understand which variables contribute most to the prediction, enhancing transparency and trust in the model.\n",
    "\n",
    "Hyperparameter Tuning: Fine-tuning model parameters to optimize performance on the test dataset.\n",
    "\n",
    "Final Model Selection: Choosing the best-performing model based on evaluation metrics and business requirements. Throughout these milestones, the visualizations play a crucial role in enhancing our understanding of the data, model behavior, and performance. They help us make informed decisions at each stage, from data cleaning and feature engineering to model selection and evaluation. The ultimate goal of this project is to develop a reliable loan default prediction model that empowers our financial institution to make informed lending decisions and mitigate risk effectively."
   ]
  },
  {
   "cell_type": "code",
   "execution_count": null,
   "id": "fe46509f",
   "metadata": {},
   "outputs": [],
   "source": [
    "Conclusion"
   ]
  },
  {
   "cell_type": "markdown",
   "id": "06d16bfe",
   "metadata": {},
   "source": [
    "In conclusion, my journey through the loan default prediction project has yielded valuable insights and promising outcomes. Through thorough exploratory data analysis and rigorous model building, we have gained a deeper understanding of the factors influencing loan default and have developed predictive models that showcase encouraging performance. While the analysis provides a solid foundation, there are important considerations and further steps before deploying the model in a real-world lending environment.\n",
    "\n",
    "Analysis and Model Building Insights:\n",
    "\n",
    "Feature Importance: my analysis highlights the significant role that certain features play in predicting loan defaults. Factors such as credit score, income level, and employment status have emerged as strong predictors of default risk.\n",
    "\n",
    "Model Performance: my ensemble model, built through careful selection and tuning, demonstrates commendable predictive accuracy and robustness. It exhibits competitive results in terms of accuracy, precision, recall, and AUC-ROC, suggesting its potential efficacy in identifying loan default risks.\n",
    "\n",
    "Deployment Readiness:\n",
    "\n",
    "While my model demonstrates promising results, there are a few considerations before deploying it in a production setting:\n",
    "\n",
    "Validation on Unseen Data: The model's performance should be validated on unseen, real-world data to ensure its generalization capability and to verify if it maintains its predictive power beyond the training dataset.\n",
    "Monitoring and Maintenance: Deployed models require ongoing monitoring and maintenance to adapt to changing trends and to prevent degradation in performance over time.\n",
    "Recommendations:\n",
    "\n",
    "Enhanced Data Collection: Incorporating additional data sources, such as macroeconomic indicators, industry-specific trends, or external risk factors, could potentially enrich the model's predictive power.\n",
    "Customer Segmentation: Further segmentation of customers based on risk profiles could allow for more tailored lending decisions and risk management strategies.\n",
    "Interpretability: Developing model interpretability techniques to explain the decisions made by the model will enhance transparency and facilitate stakeholder trust.\n",
    "Challenges and Opportunities:\n",
    "\n",
    "Imbalanced Data: The challenge of dealing with imbalanced classes might impact the model's performance. Exploring advanced techniques like cost-sensitive learning or more sophisticated resampling methods could address this issue.\n",
    "Dynamic Environment: The lending landscape is subject to evolving regulations, market dynamics, and borrower behaviors. Adapting the model to these changes and maintaining its accuracy presents an ongoing challenge.\n",
    "Ethical Considerations: Careful attention must be given to potential bias in the model's predictions, ensuring that it does not unfairly discriminate against certain groups of borrowers.\n",
    "Automation Integration: Exploring the integration of the model into the lending process requires collaboration with IT teams and seamless integration with existing systems.\n",
    "In summary, our analysis and model building efforts have laid a solid foundation for effective loan default prediction. While the model shows promise, further validation, refinement, and careful consideration of challenges are essential before deploying it to support real-world lending decisions. By leveraging these insights and recommendations, we can confidently embark on the path toward improved risk management and responsible lending practices."
   ]
  },
  {
   "cell_type": "code",
   "execution_count": null,
   "id": "91107e93",
   "metadata": {},
   "outputs": [],
   "source": [
    "K-means Clustering"
   ]
  },
  {
   "cell_type": "markdown",
   "id": "8a4996d9",
   "metadata": {},
   "source": [
    "K-means is a popular clustering algorithm that partitions data into K clusters, where K is a user-defined hyperparameter. The algorithm iteratively assigns data points to clusters and updates the cluster centers until convergence. The goal is to minimize the sum of squared distances between data points and their cluster centers."
   ]
  },
  {
   "cell_type": "code",
   "execution_count": null,
   "id": "f6118b06",
   "metadata": {},
   "outputs": [],
   "source": [
    "Preprocessing"
   ]
  },
  {
   "cell_type": "markdown",
   "id": "b9bb6607",
   "metadata": {},
   "source": [
    "Before applying the K-means algorithm, data preprocessing was performed on the 'loan_amount' column. Standardization was applied to scale the loan amounts, ensuring that all features have equal importance during clustering."
   ]
  },
  {
   "cell_type": "code",
   "execution_count": 16,
   "id": "fd823d1a",
   "metadata": {},
   "outputs": [],
   "source": [
    "from sklearn.preprocessing import StandardScaler\n",
    "\n",
    "# Standardize loan_amount column\n",
    "scaler = StandardScaler()\n",
    "df['loan_amount_std'] = scaler.fit_transform(df[['loan_amount']])\n"
   ]
  },
  {
   "cell_type": "code",
   "execution_count": null,
   "id": "7319dcea",
   "metadata": {},
   "outputs": [],
   "source": [
    "Selecting the Number of Clusters (K)"
   ]
  },
  {
   "cell_type": "markdown",
   "id": "21ba7524",
   "metadata": {},
   "source": [
    "Choosing the optimal number of clusters (K) is crucial in K-means clustering. The 'elbow method' and 'silhouette score' are common techniques used to determine K. The elbow method involves plotting the sum of squared distances (inertia) against different values of K and selecting the 'elbow point,' which indicates the optimal K where the inertia starts to level off. The silhouette score measures the compactness and separation between clusters, with higher scores indicating better-defined clusters."
   ]
  },
  {
   "cell_type": "code",
   "execution_count": null,
   "id": "10a2b57c",
   "metadata": {},
   "outputs": [],
   "source": [
    "Fitting the K-means Model"
   ]
  },
  {
   "cell_type": "markdown",
   "id": "e2f467cd",
   "metadata": {},
   "source": [
    "Once the number of clusters (K) is selected, the K-means model is fitted to the standardized loan amounts."
   ]
  },
  {
   "cell_type": "code",
   "execution_count": 17,
   "id": "1b515738",
   "metadata": {},
   "outputs": [
    {
     "name": "stderr",
     "output_type": "stream",
     "text": [
      "/Users/josephmadden/anaconda3/lib/python3.11/site-packages/sklearn/cluster/_kmeans.py:870: FutureWarning: The default value of `n_init` will change from 10 to 'auto' in 1.4. Set the value of `n_init` explicitly to suppress the warning\n",
      "  warnings.warn(\n"
     ]
    }
   ],
   "source": [
    "from sklearn.cluster import KMeans\n",
    "\n",
    "# Selecting the number of clusters (K)\n",
    "k = 4\n",
    "\n",
    "# Fitting K-means model\n",
    "kmeans = KMeans(n_clusters=k, random_state=0)\n",
    "df['cluster'] = kmeans.fit_predict(df[['loan_amount_std']])\n"
   ]
  },
  {
   "cell_type": "code",
   "execution_count": null,
   "id": "d6d68ac5",
   "metadata": {},
   "outputs": [],
   "source": [
    "Analyzing Clusters"
   ]
  },
  {
   "cell_type": "markdown",
   "id": "0966a29b",
   "metadata": {},
   "source": [
    "After clustering, we can analyze the clusters to understand loan patterns based on loan amounts. Visualizations such as box plots, histograms, or bar plots can be used to compare cluster characteristics. Additionally, descriptive statistics can provide insights into each cluster's loan amounts and other relevant features."
   ]
  },
  {
   "cell_type": "code",
   "execution_count": null,
   "id": "9e3880b0",
   "metadata": {},
   "outputs": [],
   "source": [
    "Conclusion"
   ]
  },
  {
   "cell_type": "markdown",
   "id": "e663bb03",
   "metadata": {},
   "source": [
    "K-means clustering allowed us to group loans based on loan amounts, revealing distinct patterns in the data. By analyzing these clusters, financial institutions can gain valuable insights into different loan segments and tailor their loan offerings accordingly. It is essential to note that clustering is an unsupervised learning technique, and its application here focused on discovering patterns rather than predicting loan defaults. If additional features were available, supervised learning models could be explored for prediction tasks."
   ]
  },
  {
   "cell_type": "code",
   "execution_count": null,
   "id": "54f7f976",
   "metadata": {},
   "outputs": [],
   "source": [
    "Recommendations"
   ]
  },
  {
   "cell_type": "markdown",
   "id": "c54618c0",
   "metadata": {},
   "source": [
    "For a more comprehensive analysis, other features in the dataset, such as loan purpose, credit score, or income, could be included in the clustering process. This multi-dimensional clustering could reveal more intricate loan patterns and potentially provide deeper insights into the relationships between loan amounts and other variables."
   ]
  },
  {
   "cell_type": "code",
   "execution_count": null,
   "id": "785f3da4",
   "metadata": {},
   "outputs": [],
   "source": [
    "Challenges and Ethical Considerations"
   ]
  },
  {
   "cell_type": "markdown",
   "id": "33568438",
   "metadata": {},
   "source": [
    "When applying clustering techniques, it is crucial to interpret the clusters carefully and avoid making unwarranted assumptions based on the grouping. Moreover, ensuring data privacy and complying with ethical considerations is paramount when dealing with financial data, especially if additional features or customer information are involved."
   ]
  },
  {
   "cell_type": "code",
   "execution_count": 18,
   "id": "9d185196",
   "metadata": {},
   "outputs": [],
   "source": [
    "import pandas as pd\n",
    "import numpy as np\n",
    "from sklearn.preprocessing import StandardScaler\n"
   ]
  },
  {
   "cell_type": "code",
   "execution_count": 4,
   "id": "5ce5ff3a",
   "metadata": {},
   "outputs": [],
   "source": [
    "# Load the data from the CSV file into a DataFrame\n",
    "df = pd.read_csv(\"Loan_Default.csv\")\n"
   ]
  },
  {
   "cell_type": "code",
   "execution_count": 7,
   "id": "e69163da",
   "metadata": {},
   "outputs": [],
   "source": [
    "# Step 1: Drop irrelevant features\n",
    "irrelevant_features = ['year', 'approv_in_adv', 'business_or_commercial', 'Secured_by', 'construction_type']\n",
    "df = df.drop(irrelevant_features, axis=1)"
   ]
  },
  {
   "cell_type": "code",
   "execution_count": 8,
   "id": "6d467f90",
   "metadata": {},
   "outputs": [],
   "source": [
    "# Step 2: Transform features if necessary\n",
    "# Example 1: Logarithmic transformation for 'loan_amount'\n",
    "df['loan_amount_log'] = np.log1p(df['loan_amount'])"
   ]
  },
  {
   "cell_type": "code",
   "execution_count": 9,
   "id": "611536d4",
   "metadata": {},
   "outputs": [],
   "source": [
    "# Step 3: Square root transformation for 'income'\n",
    "df['income_sqrt'] = np.sqrt(df['income'])"
   ]
  },
  {
   "cell_type": "code",
   "execution_count": 10,
   "id": "9a068fc7",
   "metadata": {},
   "outputs": [
    {
     "name": "stderr",
     "output_type": "stream",
     "text": [
      "/var/folders/g7/hgbc4ht53h7cq43_mslpfn840000gn/T/ipykernel_52293/2193762670.py:4: FutureWarning: The default value of numeric_only in DataFrame.mean is deprecated. In a future version, it will default to False. In addition, specifying 'numeric_only=None' is deprecated. Select only valid columns or specify the value of numeric_only to silence this warning.\n",
      "  df[numerical_cols] = df[numerical_cols].fillna(df[numerical_cols].mean())\n"
     ]
    }
   ],
   "source": [
    "# Step 4: Handle missing data\n",
    "# Fill missing values in numerical columns with mean imputation\n",
    "numerical_cols = ['loan_limit', 'loan_amount', 'rate_of_interest', 'Interest_rate_spread', 'Upfront_charges', 'total_units', 'income', 'Credit_Score', 'age', 'LTV', 'dtir1']\n",
    "df[numerical_cols] = df[numerical_cols].fillna(df[numerical_cols].mean())"
   ]
  },
  {
   "cell_type": "code",
   "execution_count": 12,
   "id": "696f1b8c",
   "metadata": {
    "scrolled": true
   },
   "outputs": [],
   "source": [
    "# Step 5: Fill missing values in categorical columns with mode imputation (most frequent value)\n",
    "categorical_cols = ['Gender', 'loan_type', 'loan_purpose', 'Credit_Worthiness', 'open_credit', 'term', 'Neg_ammortization', 'interest_only', 'lump_sum_payment', 'occupancy_type', 'credit_type', 'co-applicant_credit_type', 'Region', 'Security_Type', 'Status']\n",
    "df[categorical_cols] = df[categorical_cols].fillna(df[categorical_cols].mode().iloc[0])\n"
   ]
  },
  {
   "cell_type": "code",
   "execution_count": 14,
   "id": "e229c2f5",
   "metadata": {},
   "outputs": [],
   "source": [
    "# Step 6: Fill missing values in categorical columns with mode imputation (most frequent value)\n",
    "categorical_cols = ['Gender', 'loan_type', 'loan_purpose', 'Credit_Worthiness', 'open_credit', 'term', 'Neg_ammortization', 'interest_only', 'lump_sum_payment', 'occupancy_type', 'credit_type', 'co-applicant_credit_type', 'Region', 'Security_Type', 'Status']\n",
    "df[categorical_cols] = df[categorical_cols].fillna(df[categorical_cols].mode().iloc[0])\n"
   ]
  },
  {
   "cell_type": "code",
   "execution_count": 15,
   "id": "71fba239",
   "metadata": {},
   "outputs": [
    {
     "name": "stdout",
     "output_type": "stream",
     "text": [
      "      ID loan_limit             Gender loan_type loan_purpose  \\\n",
      "0  24890         cf  Sex Not Available     type1           p1   \n",
      "1  24891         cf               Male     type2           p1   \n",
      "2  24892         cf               Male     type1           p1   \n",
      "3  24893         cf               Male     type1           p4   \n",
      "4  24894         cf              Joint     type1           p1   \n",
      "\n",
      "  Credit_Worthiness open_credit  loan_amount  rate_of_interest  \\\n",
      "0                l1        nopc       116500          4.045476   \n",
      "1                l1        nopc       206500          4.045476   \n",
      "2                l1        nopc       406500          4.560000   \n",
      "3                l1        nopc       456500          4.250000   \n",
      "4                l1        nopc       696500          4.000000   \n",
      "\n",
      "   Interest_rate_spread  ...  co-applicant_credit_type    age  \\\n",
      "0              0.441656  ...                       CIB  25-34   \n",
      "1              0.441656  ...                       EXP  55-64   \n",
      "2              0.200000  ...                       CIB  35-44   \n",
      "3              0.681000  ...                       CIB  45-54   \n",
      "4              0.304200  ...                       EXP  25-34   \n",
      "\n",
      "  submission_of_application        LTV Region  Security_Type Status  \\\n",
      "0                   to_inst  98.728814  south         direct      1   \n",
      "1                   to_inst  72.746457  North         direct      1   \n",
      "2                   to_inst  80.019685  south         direct      0   \n",
      "3                  not_inst  69.376900  North         direct      0   \n",
      "4                  not_inst  91.886544  North         direct      0   \n",
      "\n",
      "       dtir1  loan_amount_log income_sqrt  \n",
      "0  45.000000        11.665655   41.713307  \n",
      "1  37.732932        12.238061   70.569115  \n",
      "2  46.000000        12.915342   97.365292  \n",
      "3  42.000000        13.031346  108.995413  \n",
      "4  39.000000        13.453825  102.176318  \n",
      "\n",
      "[5 rows x 31 columns]\n"
     ]
    }
   ],
   "source": [
    "# Step 7: Display the modified dataset\n",
    "print(df.head())"
   ]
  },
  {
   "cell_type": "code",
   "execution_count": null,
   "id": "097a9e06",
   "metadata": {},
   "outputs": [],
   "source": [
    "Milestone 1"
   ]
  },
  {
   "cell_type": "code",
   "execution_count": 21,
   "id": "f2b7d48c",
   "metadata": {},
   "outputs": [],
   "source": [
    "import pandas as pd\n",
    "import matplotlib.pyplot as plt"
   ]
  },
  {
   "cell_type": "code",
   "execution_count": 22,
   "id": "5add6af7",
   "metadata": {},
   "outputs": [],
   "source": [
    "# Load the Loan_Default.csv dataset into a pandas DataFrame\n",
    "loan_data = pd.read_csv('Loan_Default.csv')"
   ]
  },
  {
   "cell_type": "markdown",
   "id": "c4b92f69",
   "metadata": {},
   "source": [
    "# Narrative:\n",
    "\n",
    "# Business Problem:\n",
    "\n",
    "The business problem we aim to address is predicting loan defaults for a financial institution. Loan default occurs when borrowers fail to repay their loans according to the agreed terms, leading to financial losses for lenders. By developing a model to predict loan defaults, the financial institution can assess credit risk and make informed decisions regarding loan approvals.\n",
    "\n",
    "# Target for the Model:\n",
    "\n",
    "The target for our model is to predict whether a customer is likely to default on their loan based on various factors such as credit score, income, employment status, and loan characteristics. By analyzing these variables, the model can help identify high-risk borrowers and enable the financial institution to take proactive measures to mitigate default risks."
   ]
  },
  {
   "cell_type": "code",
   "execution_count": 23,
   "id": "7c5acf1f",
   "metadata": {
    "scrolled": true
   },
   "outputs": [
    {
     "data": {
      "image/png": "[encoded data removed]",
      "text/plain": [
       "<Figure size 640x480 with 1 Axes>"
      ]
     },
     "metadata": {},
     "output_type": "display_data"
    }
   ],
   "source": [
    "# Graphic Analysis\n",
    "\n",
    "# Bar Chart: Loan Amount by Term\n",
    "loan_amount_by_term = loan_data.groupby('term')['loan_amount'].mean()\n",
    "loan_amount_by_term.plot(kind='bar')\n",
    "\n",
    "plt.xlabel('Term')\n",
    "plt.ylabel('Loan Amount')\n",
    "plt.title('Loan Amount by Term')\n",
    "plt.xticks(rotation='vertical')\n",
    "\n",
    "plt.tight_layout()  # Adjust spacing between subplots and labels\n",
    "\n",
    "plt.show()"
   ]
  },
  {
   "cell_type": "code",
   "execution_count": 24,
   "id": "ad5bebcb",
   "metadata": {},
   "outputs": [
    {
     "data": {
      "image/png": "[encoded data removed]",
      "text/plain": [
       "<Figure size 640x480 with 1 Axes>"
      ]
     },
     "metadata": {},
     "output_type": "display_data"
    }
   ],
   "source": [
    "# Pie Chart: Loan Purpose Distribution\n",
    "# Get loan purpose counts\n",
    "# Map the loan purpose codes to the desired labels\n",
    "# Load the Loan_Default.csv dataset into a pandas DataFrame\n",
    "loan_data = pd.read_csv('Loan_Default.csv')\n",
    "\n",
    "loan_data['loan_purpose'] = loan_data['loan_purpose'].replace({'P1': 'income', 'P2': 'loan_amount', 'P3': 'Credit_Score', 'P4': 'age'})\n",
    "\n",
    "# Get loan purpose counts\n",
    "loan_purpose_counts = loan_data['loan_purpose'].value_counts()\n",
    "\n",
    "# Create the pie chart\n",
    "plt.pie(loan_purpose_counts, labels=loan_purpose_counts.index, autopct='%1.1f%%')\n",
    "\n",
    "plt.title('Loan Purpose Distribution')\n",
    "\n",
    "plt.show()"
   ]
  },
  {
   "cell_type": "code",
   "execution_count": 25,
   "id": "a88327e0",
   "metadata": {},
   "outputs": [
    {
     "data": {
      "image/png": "[encoded data removed]",
      "text/plain": [
       "<Figure size 640x480 with 1 Axes>"
      ]
     },
     "metadata": {},
     "output_type": "display_data"
    }
   ],
   "source": [
    "## Histogram: Credit Score Distribution\n",
    "# Histogram: Credit Score Distribution\n",
    "bins = 20\n",
    "\n",
    "# Create the colors\n",
    "colors = ['blue']\n",
    "\n",
    "# Create the histogram\n",
    "plt.hist(loan_data['Credit_Score'], bins=bins, color=colors)\n",
    "\n",
    "# Add labels\n",
    "plt.xlabel('Credit Score')\n",
    "plt.ylabel('Count')\n",
    "plt.title('Credit Score Distribution')\n",
    "\n",
    "# Show the plot\n",
    "plt.show()"
   ]
  },
  {
   "cell_type": "code",
   "execution_count": 26,
   "id": "9d7d2729",
   "metadata": {},
   "outputs": [
    {
     "data": {
      "image/png": "[encoded data removed]",
      "text/plain": [
       "<Figure size 640x480 with 1 Axes>"
      ]
     },
     "metadata": {},
     "output_type": "display_data"
    }
   ],
   "source": [
    "## Scatter Plot: Loan Amount vs. Property Value\n",
    "plt.scatter(loan_data['property_value'], loan_data['loan_amount'])\n",
    "plt.xlabel('Property Value')\n",
    "plt.ylabel('Loan Amount')\n",
    "plt.title('Loan Amount vs. Property Value')\n",
    "plt.show()"
   ]
  },
  {
   "cell_type": "markdown",
   "id": "d2ad3f54",
   "metadata": {},
   "source": [
    "# Overview/Conclusion:\n",
    "\n",
    "The graphical analysis provides insights into loan defaults based on the \"Loan_Default.csv\" dataset.\n",
    "\n",
    "Bar Graph: Loan Amount by Term The bar graph displays the relationship between loan amount and loan term. It provides an overview of the average loan amount for each term category. By analyzing this graph, we can observe any significant differences in loan amounts based on the loan term. This information can be valuable for financial institutions to understand how loan amounts vary across different terms and make informed decisions related to loan approvals and risk assessments. \n",
    "\n",
    "Pie Chart: Income Distribution\n",
    "The pie chart provides an overview of the distribution of loan purposes among the borrowers in the dataset. Each slice of the pie represents a specific loan purpose category, and the size of each slice corresponds to the proportion or percentage of loans associated with that purpose.\n",
    "\n",
    "Histogram: Credit Score Distribution The histogram showcases the distribution of credit scores among borrowers. It allows us to visualize the frequency or count of credit scores falling within different score ranges. By examining the shape and spread of the histogram, we can gain insights into the creditworthiness of borrowers in the dataset. This analysis assists financial institutions in understanding the credit risk associated with different credit score ranges and implementing appropriate risk management strategies.\n",
    "\n",
    "Scatter Plot: Loan Amount vs. Property Value The scatter plot illustrates the relationship between loan amount and property value. Each data point represents a borrower's loan amount and the corresponding property value. By analyzing the scatter plot, we can identify any patterns or trends in loan amounts concerning property values. This information can be useful for assessing the loan-to-value ratio, understanding the affordability of borrowers, and identifying potential risks associated with high loan amounts relative to property values.\n",
    "\n",
    "These graphical analyses provide initial insights into the loan data, allowing financial institutions to better understand loan-related patterns and make informed decisions. Further analysis and modeling can be performed based on these insights to develop predictive models or explore additional factors influencing loan defaults and related business decisions."
   ]
  },
  {
   "cell_type": "code",
   "execution_count": null,
   "id": "075b55c3",
   "metadata": {},
   "outputs": [],
   "source": [
    "Milesotne 2"
   ]
  },
  {
   "cell_type": "code",
   "execution_count": 27,
   "id": "8a7dd886",
   "metadata": {},
   "outputs": [],
   "source": [
    "import pandas as pd\n",
    "import numpy as np"
   ]
  },
  {
   "cell_type": "code",
   "execution_count": 28,
   "id": "a37b8bec",
   "metadata": {},
   "outputs": [],
   "source": [
    "# Load the Loan_Default.csv dataset\n",
    "df = pd.read_csv('Loan_Default.csv')"
   ]
  },
  {
   "cell_type": "code",
   "execution_count": 29,
   "id": "bb8814f0",
   "metadata": {},
   "outputs": [],
   "source": [
    "# 1. Drop irrelevant features\n",
    "df = df.drop(['year', 'approv_in_adv', 'business_or_commercial', 'Secured_by', 'construction_type'], axis=1)\n"
   ]
  },
  {
   "cell_type": "code",
   "execution_count": 30,
   "id": "7f54fff6",
   "metadata": {},
   "outputs": [
    {
     "name": "stdout",
     "output_type": "stream",
     "text": [
      "      ID loan_limit             Gender loan_type loan_purpose  \\\n",
      "0  24890         cf  Sex Not Available     type1           p1   \n",
      "1  24891         cf               Male     type2           p1   \n",
      "2  24892         cf               Male     type1           p1   \n",
      "3  24893         cf               Male     type1           p4   \n",
      "4  24894         cf              Joint     type1           p1   \n",
      "\n",
      "  Credit_Worthiness open_credit  loan_amount  rate_of_interest  \\\n",
      "0                l1        nopc       116500               NaN   \n",
      "1                l1        nopc       206500               NaN   \n",
      "2                l1        nopc       406500              4.56   \n",
      "3                l1        nopc       456500              4.25   \n",
      "4                l1        nopc       696500              4.00   \n",
      "\n",
      "   Interest_rate_spread  ...  Credit_Score  co-applicant_credit_type    age  \\\n",
      "0                   NaN  ...           758                       CIB  25-34   \n",
      "1                   NaN  ...           552                       EXP  55-64   \n",
      "2                0.2000  ...           834                       CIB  35-44   \n",
      "3                0.6810  ...           587                       CIB  45-54   \n",
      "4                0.3042  ...           602                       EXP  25-34   \n",
      "\n",
      "  submission_of_application        LTV  Region Security_Type Status  dtir1  \\\n",
      "0                       NaT  98.728814   south        direct      1   45.0   \n",
      "1                       NaT        NaN   North        direct      1    NaN   \n",
      "2                       NaT  80.019685   south        direct      0   46.0   \n",
      "3                       NaT  69.376900   North        direct      0   42.0   \n",
      "4                       NaT  91.886544   North        direct      0   39.0   \n",
      "\n",
      "  submission_month  \n",
      "0              NaN  \n",
      "1              NaN  \n",
      "2              NaN  \n",
      "3              NaN  \n",
      "4              NaN  \n",
      "\n",
      "[5 rows x 30 columns]\n"
     ]
    }
   ],
   "source": [
    "# Perform data extraction/selection\n",
    "# Example: Extract month from the 'submission_of_application' column\n",
    "df['submission_of_application'] = pd.to_datetime(df['submission_of_application'], errors='coerce')\n",
    "df['submission_month'] = df['submission_of_application'].dt.month\n",
    "\n",
    "# Display the modified dataset\n",
    "print(df.head())"
   ]
  },
  {
   "cell_type": "code",
   "execution_count": 31,
   "id": "581f6d3a",
   "metadata": {},
   "outputs": [
    {
     "name": "stdout",
     "output_type": "stream",
     "text": [
      "      ID loan_limit             Gender loan_type loan_purpose  \\\n",
      "0  24890         cf  Sex Not Available     type1           p1   \n",
      "1  24891         cf               Male     type2           p1   \n",
      "2  24892         cf               Male     type1           p1   \n",
      "3  24893         cf               Male     type1           p4   \n",
      "4  24894         cf              Joint     type1           p1   \n",
      "\n",
      "  Credit_Worthiness open_credit  loan_amount  rate_of_interest  \\\n",
      "0                l1        nopc       116500               NaN   \n",
      "1                l1        nopc       206500               NaN   \n",
      "2                l1        nopc       406500              4.56   \n",
      "3                l1        nopc       456500              4.25   \n",
      "4                l1        nopc       696500              4.00   \n",
      "\n",
      "   Interest_rate_spread  ...  submission_of_application        LTV Region  \\\n",
      "0                   NaN  ...                        NaT  98.728814  south   \n",
      "1                   NaN  ...                        NaT        NaN  North   \n",
      "2                0.2000  ...                        NaT  80.019685  south   \n",
      "3                0.6810  ...                        NaT  69.376900  North   \n",
      "4                0.3042  ...                        NaT  91.886544  North   \n",
      "\n",
      "  Security_Type Status  dtir1 submission_month loan_amount_log  income_sqrt  \\\n",
      "0        direct      1   45.0              NaN       11.665655    41.713307   \n",
      "1        direct      1    NaN              NaN       12.238061    70.569115   \n",
      "2        direct      0   46.0              NaN       12.915342    97.365292   \n",
      "3        direct      0   42.0              NaN       13.031346   108.995413   \n",
      "4        direct      0   39.0              NaN       13.453825   102.176318   \n",
      "\n",
      "  credit_score_boxcox  \n",
      "0          172.567589  \n",
      "1          136.591431  \n",
      "2          185.145157  \n",
      "3          142.929870  \n",
      "4          145.614975  \n",
      "\n",
      "[5 rows x 33 columns]\n"
     ]
    }
   ],
   "source": [
    "# Transform features if necessary\n",
    "# Example 1: Logarithmic transformation\n",
    "df['loan_amount_log'] = np.log1p(df['loan_amount'])\n",
    "\n",
    "# Example 2: Square root transformation\n",
    "df['income_sqrt'] = np.sqrt(df['income'])\n",
    "\n",
    "# Example 3: Box-Cox transformation\n",
    "from scipy import stats\n",
    "df['credit_score_boxcox'], _ = stats.boxcox(df['Credit_Score'])\n",
    "\n",
    "# Display the modified dataset\n",
    "print(df.head())"
   ]
  },
  {
   "cell_type": "code",
   "execution_count": 32,
   "id": "6aa75c4a",
   "metadata": {},
   "outputs": [],
   "source": [
    "# 4. Engineer new features (if applicable)\n",
    "df['debt_to_income_ratio'] = df['loan_amount'] / df['income']"
   ]
  },
  {
   "cell_type": "code",
   "execution_count": 33,
   "id": "23529353",
   "metadata": {},
   "outputs": [
    {
     "name": "stderr",
     "output_type": "stream",
     "text": [
      "/var/folders/g7/hgbc4ht53h7cq43_mslpfn840000gn/T/ipykernel_52293/44613803.py:3: FutureWarning: DataFrame.mean and DataFrame.median with numeric_only=None will include datetime64 and datetime64tz columns in a future version.\n",
      "  df = df.fillna(df.mean())\n",
      "/var/folders/g7/hgbc4ht53h7cq43_mslpfn840000gn/T/ipykernel_52293/44613803.py:3: FutureWarning: The default value of numeric_only in DataFrame.mean is deprecated. In a future version, it will default to False. In addition, specifying 'numeric_only=None' is deprecated. Select only valid columns or specify the value of numeric_only to silence this warning.\n",
      "  df = df.fillna(df.mean())\n"
     ]
    }
   ],
   "source": [
    "# 5. Handle missing data\n",
    "# Example: Impute missing values with mean imputation\n",
    "df = df.fillna(df.mean())"
   ]
  },
  {
   "cell_type": "code",
   "execution_count": 34,
   "id": "0b07d19e",
   "metadata": {},
   "outputs": [],
   "source": [
    "# 6. Create dummy variables (if applicable)\n",
    "df = pd.get_dummies(df, columns=['Gender', 'loan_type', 'loan_purpose', 'Credit_Worthiness', 'credit_type', 'co-applicant_credit_type', 'occupancy_type', 'Region', 'Security_Type', 'Status'])"
   ]
  },
  {
   "cell_type": "code",
   "execution_count": null,
   "id": "63779a1a",
   "metadata": {},
   "outputs": [],
   "source": [
    "# 7. Document the process"
   ]
  },
  {
   "cell_type": "code",
   "execution_count": 36,
   "id": "4a2405ab",
   "metadata": {},
   "outputs": [
    {
     "name": "stdout",
     "output_type": "stream",
     "text": [
      "      ID loan_limit             Gender loan_type loan_purpose  \\\n",
      "0  24890         cf  Sex Not Available     type1           p1   \n",
      "1  24891         cf               Male     type2           p1   \n",
      "2  24892         cf               Male     type1           p1   \n",
      "3  24893         cf               Male     type1           p4   \n",
      "4  24894         cf              Joint     type1           p1   \n",
      "\n",
      "  Credit_Worthiness open_credit  loan_amount  rate_of_interest  \\\n",
      "0                l1        nopc       116500          4.045476   \n",
      "1                l1        nopc       206500          4.045476   \n",
      "2                l1        nopc       406500          4.560000   \n",
      "3                l1        nopc       456500          4.250000   \n",
      "4                l1        nopc       696500          4.000000   \n",
      "\n",
      "   Interest_rate_spread  ...  co-applicant_credit_type    age  \\\n",
      "0              0.441656  ...                       CIB  25-34   \n",
      "1              0.441656  ...                       EXP  55-64   \n",
      "2              0.200000  ...                       CIB  35-44   \n",
      "3              0.681000  ...                       CIB  45-54   \n",
      "4              0.304200  ...                       EXP  25-34   \n",
      "\n",
      "  submission_of_application        LTV Region  Security_Type Status  \\\n",
      "0                   to_inst  98.728814  south         direct      1   \n",
      "1                   to_inst  72.746457  North         direct      1   \n",
      "2                   to_inst  80.019685  south         direct      0   \n",
      "3                  not_inst  69.376900  North         direct      0   \n",
      "4                  not_inst  91.886544  North         direct      0   \n",
      "\n",
      "       dtir1 loan_amount_log  income_sqrt  \n",
      "0  45.000000       11.665655    41.713307  \n",
      "1  37.732932       12.238061    70.569115  \n",
      "2  46.000000       12.915342    97.365292  \n",
      "3  42.000000       13.031346   108.995413  \n",
      "4  39.000000       13.453825   102.176318  \n",
      "\n",
      "[5 rows x 32 columns]\n"
     ]
    },
    {
     "name": "stderr",
     "output_type": "stream",
     "text": [
      "/var/folders/g7/hgbc4ht53h7cq43_mslpfn840000gn/T/ipykernel_52293/1959203089.py:31: FutureWarning: The default value of numeric_only in DataFrame.mean is deprecated. In a future version, it will default to False. In addition, specifying 'numeric_only=None' is deprecated. Select only valid columns or specify the value of numeric_only to silence this warning.\n",
      "  df = df.fillna(df.mean())\n"
     ]
    }
   ],
   "source": [
    "import pandas as pd\n",
    "import numpy as np\n",
    "\n",
    "# Load the Loan_Default.csv dataset\n",
    "df = pd.read_csv('Loan_Default.csv')\n",
    "\n",
    "# Step 1: Drop irrelevant features\n",
    "# Reasoning: Drop features that are not useful for predicting loan defaults or don't provide meaningful information for the analysis.\n",
    "df = df.drop(['year', 'approv_in_adv', 'business_or_commercial', 'Secured_by',], axis=1)\n",
    "\n",
    "# Step 2: Perform data extraction/selection (if applicable)\n",
    "# No specific data extraction or selection steps mentioned in the instructions.\n",
    "\n",
    "# Step 3: Transform features if necessary\n",
    "# Example 1: Logarithmic transformation\n",
    "# Purpose: Reduce the impact of extreme values and normalize the distribution of 'loan_amount'.\n",
    "# Reasoning: The 'loan_amount' column exhibits a highly skewed distribution with a few large values. Taking the logarithm can help in mitigating the impact of these extreme values and achieve a more normalized distribution.\n",
    "df['loan_amount_log'] = np.log1p(df['loan_amount'])\n",
    "\n",
    "# Example 2: Square root transformation\n",
    "# Purpose: Normalize the distribution of 'income'.\n",
    "# Reasoning: The 'income' column has a positively skewed distribution. Applying the square root function can help reduce the skewness and achieve a more symmetric distribution.\n",
    "df['income_sqrt'] = np.sqrt(df['income'])\n",
    "\n",
    "# Step 4: Engineer new features (if applicable)\n",
    "# No specific feature engineering steps mentioned in the instructions.\n",
    "\n",
    "# Step 5: Handle missing data\n",
    "# Example: Impute missing values with mean imputation\n",
    "# Reasoning: Missing data can have a significant impact on the analysis and modeling process. To ensure that we retain as much information as possible, we impute missing values with the mean of the respective column.\n",
    "df = df.fillna(df.mean())\n",
    "\n",
    "# Step 6: Create dummy variables (if applicable)\n",
    "# No categorical variables observed in this dataset, hence no need for creating dummy variables.\n",
    "\n",
    "# Step 7: Document the process\n",
    "# All the steps performed in the data preparation process have been documented with appropriate reasoning, purpose, and assumptions.\n",
    "\n",
    "# Display the modified dataset\n",
    "print(df.head())"
   ]
  },
  {
   "cell_type": "code",
   "execution_count": 37,
   "id": "4956f363",
   "metadata": {},
   "outputs": [
    {
     "name": "stdout",
     "output_type": "stream",
     "text": [
      "      ID loan_limit             Gender loan_type loan_purpose  \\\n",
      "0  24890         cf  Sex Not Available     type1           p1   \n",
      "1  24891         cf               Male     type2           p1   \n",
      "2  24892         cf               Male     type1           p1   \n",
      "3  24893         cf               Male     type1           p4   \n",
      "4  24894         cf              Joint     type1           p1   \n",
      "\n",
      "  Credit_Worthiness open_credit  loan_amount  rate_of_interest  \\\n",
      "0                l1        nopc       116500          4.045476   \n",
      "1                l1        nopc       206500          4.045476   \n",
      "2                l1        nopc       406500          4.560000   \n",
      "3                l1        nopc       456500          4.250000   \n",
      "4                l1        nopc       696500          4.000000   \n",
      "\n",
      "   Interest_rate_spread  ...  co-applicant_credit_type    age  \\\n",
      "0              0.441656  ...                       CIB  25-34   \n",
      "1              0.441656  ...                       EXP  55-64   \n",
      "2              0.200000  ...                       CIB  35-44   \n",
      "3              0.681000  ...                       CIB  45-54   \n",
      "4              0.304200  ...                       EXP  25-34   \n",
      "\n",
      "  submission_of_application        LTV Region  Security_Type Status  \\\n",
      "0                   to_inst  98.728814  south         direct      1   \n",
      "1                   to_inst  72.746457  North         direct      1   \n",
      "2                   to_inst  80.019685  south         direct      0   \n",
      "3                  not_inst  69.376900  North         direct      0   \n",
      "4                  not_inst  91.886544  North         direct      0   \n",
      "\n",
      "       dtir1 loan_amount_log  income_sqrt  \n",
      "0  45.000000       11.665655    41.713307  \n",
      "1  37.732932       12.238061    70.569115  \n",
      "2  46.000000       12.915342    97.365292  \n",
      "3  42.000000       13.031346   108.995413  \n",
      "4  39.000000       13.453825   102.176318  \n",
      "\n",
      "[5 rows x 32 columns]\n"
     ]
    }
   ],
   "source": [
    "# Display the modified dataset\n",
    "print(df.head())"
   ]
  },
  {
   "cell_type": "code",
   "execution_count": null,
   "id": "2bc2df0d",
   "metadata": {},
   "outputs": [],
   "source": [
    "Milestone 3"
   ]
  },
  {
   "cell_type": "code",
   "execution_count": null,
   "id": "dd8744ff",
   "metadata": {},
   "outputs": [],
   "source": [
    "Step 1: Data Preprocessing"
   ]
  },
  {
   "cell_type": "code",
   "execution_count": null,
   "id": "cbd73fc2",
   "metadata": {},
   "outputs": [],
   "source": [
    "import pandas as pd\n",
    "import numpy as np\n",
    "from sklearn.model_selection import train_test_split\n",
    "from sklearn.linear_model import LogisticRegression\n",
    "from sklearn.metrics import accuracy_score, confusion_matrix"
   ]
  },
  {
   "cell_type": "code",
   "execution_count": null,
   "id": "1d97e2dd",
   "metadata": {},
   "outputs": [],
   "source": [
    "Step 2: Loading the data"
   ]
  },
  {
   "cell_type": "code",
   "execution_count": 38,
   "id": "1afe6c77",
   "metadata": {},
   "outputs": [],
   "source": [
    "data = pd.read_csv('Loan_Default.csv')"
   ]
  },
  {
   "cell_type": "code",
   "execution_count": null,
   "id": "afaefca5",
   "metadata": {},
   "outputs": [],
   "source": [
    "Step 3: Handle the missing values "
   ]
  },
  {
   "cell_type": "code",
   "execution_count": 39,
   "id": "4221d14b",
   "metadata": {},
   "outputs": [
    {
     "name": "stderr",
     "output_type": "stream",
     "text": [
      "/var/folders/g7/hgbc4ht53h7cq43_mslpfn840000gn/T/ipykernel_52293/1474580016.py:1: FutureWarning: The default value of numeric_only in DataFrame.mean is deprecated. In a future version, it will default to False. In addition, specifying 'numeric_only=None' is deprecated. Select only valid columns or specify the value of numeric_only to silence this warning.\n",
      "  data.fillna(data.mean(), inplace=True)\n"
     ]
    }
   ],
   "source": [
    "data.fillna(data.mean(), inplace=True)"
   ]
  },
  {
   "cell_type": "code",
   "execution_count": null,
   "id": "07bf072d",
   "metadata": {},
   "outputs": [],
   "source": [
    "Step 4: Selecting the feature for clustering (loan_amount in this case)"
   ]
  },
  {
   "cell_type": "code",
   "execution_count": 40,
   "id": "6cad1abf",
   "metadata": {},
   "outputs": [],
   "source": [
    "X = data[['loan_amount']]"
   ]
  },
  {
   "cell_type": "code",
   "execution_count": null,
   "id": "1699b349",
   "metadata": {},
   "outputs": [],
   "source": [
    "Step 5: Standardizing the features (important for K-means)"
   ]
  },
  {
   "cell_type": "code",
   "execution_count": 41,
   "id": "c59f7e51",
   "metadata": {},
   "outputs": [],
   "source": [
    "scaler = StandardScaler()\n",
    "X_scaled = scaler.fit_transform(X)"
   ]
  },
  {
   "cell_type": "code",
   "execution_count": null,
   "id": "019a2bf7",
   "metadata": {},
   "outputs": [],
   "source": [
    "Step 6: Selecting a Model and Training"
   ]
  },
  {
   "cell_type": "code",
   "execution_count": 44,
   "id": "dbd46a4d",
   "metadata": {},
   "outputs": [],
   "source": [
    "# Choosing the number of clusters (K)\n",
    "n_clusters = 3  # You can choose an appropriate value based on domain knowledge or use techniques like elbow method."
   ]
  },
  {
   "cell_type": "code",
   "execution_count": null,
   "id": "e6a133d6",
   "metadata": {},
   "outputs": [],
   "source": [
    "Step 7: Importing the KMeans class"
   ]
  },
  {
   "cell_type": "code",
   "execution_count": 45,
   "id": "a0bd2425",
   "metadata": {},
   "outputs": [],
   "source": [
    "from sklearn.cluster import KMeans"
   ]
  },
  {
   "cell_type": "code",
   "execution_count": null,
   "id": "cc336f42",
   "metadata": {},
   "outputs": [],
   "source": [
    "Step 8: Creating a KMeans object"
   ]
  },
  {
   "cell_type": "code",
   "execution_count": 46,
   "id": "66dd2cd6",
   "metadata": {},
   "outputs": [],
   "source": [
    "kmeans = KMeans(n_clusters=n_clusters, random_state=42)"
   ]
  },
  {
   "cell_type": "code",
   "execution_count": null,
   "id": "bf34170d",
   "metadata": {},
   "outputs": [],
   "source": [
    "Step 9: Fitting the KMeans model to the data"
   ]
  },
  {
   "cell_type": "code",
   "execution_count": 47,
   "id": "f9fae8f0",
   "metadata": {},
   "outputs": [
    {
     "name": "stderr",
     "output_type": "stream",
     "text": [
      "/Users/josephmadden/anaconda3/lib/python3.11/site-packages/sklearn/cluster/_kmeans.py:870: FutureWarning: The default value of `n_init` will change from 10 to 'auto' in 1.4. Set the value of `n_init` explicitly to suppress the warning\n",
      "  warnings.warn(\n"
     ]
    },
    {
     "data": {
      "text/html": [
       "<style>#sk-container-id-1 {color: black;background-color: white;}#sk-container-id-1 pre{padding: 0;}#sk-container-id-1 div.sk-toggleable {background-color: white;}#sk-container-id-1 label.sk-toggleable__label {cursor: pointer;display: block;width: 100%;margin-bottom: 0;padding: 0.3em;box-sizing: border-box;text-align: center;}#sk-container-id-1 label.sk-toggleable__label-arrow:before {content: \"▸\";float: left;margin-right: 0.25em;color: #696969;}#sk-container-id-1 label.sk-toggleable__label-arrow:hover:before {color: black;}#sk-container-id-1 div.sk-estimator:hover label.sk-toggleable__label-arrow:before {color: black;}#sk-container-id-1 div.sk-toggleable__content {max-height: 0;max-width: 0;overflow: hidden;text-align: left;background-color: #f0f8ff;}#sk-container-id-1 div.sk-toggleable__content pre {margin: 0.2em;color: black;border-radius: 0.25em;background-color: #f0f8ff;}#sk-container-id-1 input.sk-toggleable__control:checked~div.sk-toggleable__content {max-height: 200px;max-width: 100%;overflow: auto;}#sk-container-id-1 input.sk-toggleable__control:checked~label.sk-toggleable__label-arrow:before {content: \"▾\";}#sk-container-id-1 div.sk-estimator input.sk-toggleable__control:checked~label.sk-toggleable__label {background-color: #d4ebff;}#sk-container-id-1 div.sk-label input.sk-toggleable__control:checked~label.sk-toggleable__label {background-color: #d4ebff;}#sk-container-id-1 input.sk-hidden--visually {border: 0;clip: rect(1px 1px 1px 1px);clip: rect(1px, 1px, 1px, 1px);height: 1px;margin: -1px;overflow: hidden;padding: 0;position: absolute;width: 1px;}#sk-container-id-1 div.sk-estimator {font-family: monospace;background-color: #f0f8ff;border: 1px dotted black;border-radius: 0.25em;box-sizing: border-box;margin-bottom: 0.5em;}#sk-container-id-1 div.sk-estimator:hover {background-color: #d4ebff;}#sk-container-id-1 div.sk-parallel-item::after {content: \"\";width: 100%;border-bottom: 1px solid gray;flex-grow: 1;}#sk-container-id-1 div.sk-label:hover label.sk-toggleable__label {background-color: #d4ebff;}#sk-container-id-1 div.sk-serial::before {content: \"\";position: absolute;border-left: 1px solid gray;box-sizing: border-box;top: 0;bottom: 0;left: 50%;z-index: 0;}#sk-container-id-1 div.sk-serial {display: flex;flex-direction: column;align-items: center;background-color: white;padding-right: 0.2em;padding-left: 0.2em;position: relative;}#sk-container-id-1 div.sk-item {position: relative;z-index: 1;}#sk-container-id-1 div.sk-parallel {display: flex;align-items: stretch;justify-content: center;background-color: white;position: relative;}#sk-container-id-1 div.sk-item::before, #sk-container-id-1 div.sk-parallel-item::before {content: \"\";position: absolute;border-left: 1px solid gray;box-sizing: border-box;top: 0;bottom: 0;left: 50%;z-index: -1;}#sk-container-id-1 div.sk-parallel-item {display: flex;flex-direction: column;z-index: 1;position: relative;background-color: white;}#sk-container-id-1 div.sk-parallel-item:first-child::after {align-self: flex-end;width: 50%;}#sk-container-id-1 div.sk-parallel-item:last-child::after {align-self: flex-start;width: 50%;}#sk-container-id-1 div.sk-parallel-item:only-child::after {width: 0;}#sk-container-id-1 div.sk-dashed-wrapped {border: 1px dashed gray;margin: 0 0.4em 0.5em 0.4em;box-sizing: border-box;padding-bottom: 0.4em;background-color: white;}#sk-container-id-1 div.sk-label label {font-family: monospace;font-weight: bold;display: inline-block;line-height: 1.2em;}#sk-container-id-1 div.sk-label-container {text-align: center;}#sk-container-id-1 div.sk-container {/* jupyter's `normalize.less` sets `[hidden] { display: none; }` but bootstrap.min.css set `[hidden] { display: none !important; }` so we also need the `!important` here to be able to override the default hidden behavior on the sphinx rendered scikit-learn.org. See: https://github.com/scikit-learn/scikit-learn/issues/21755 */display: inline-block !important;position: relative;}#sk-container-id-1 div.sk-text-repr-fallback {display: none;}</style><div id=\"sk-container-id-1\" class=\"sk-top-container\"><div class=\"sk-text-repr-fallback\"><pre>KMeans(n_clusters=3, random_state=42)</pre><b>In a Jupyter environment, please rerun this cell to show the HTML representation or trust the notebook. <br />On GitHub, the HTML representation is unable to render, please try loading this page with nbviewer.org.</b></div><div class=\"sk-container\" hidden><div class=\"sk-item\"><div class=\"sk-estimator sk-toggleable\"><input class=\"sk-toggleable__control sk-hidden--visually\" id=\"sk-estimator-id-1\" type=\"checkbox\" checked><label for=\"sk-estimator-id-1\" class=\"sk-toggleable__label sk-toggleable__label-arrow\">KMeans</label><div class=\"sk-toggleable__content\"><pre>KMeans(n_clusters=3, random_state=42)</pre></div></div></div></div></div>"
      ],
      "text/plain": [
       "KMeans(n_clusters=3, random_state=42)"
      ]
     },
     "execution_count": 47,
     "metadata": {},
     "output_type": "execute_result"
    }
   ],
   "source": [
    "kmeans.fit(X_scaled)"
   ]
  },
  {
   "cell_type": "code",
   "execution_count": null,
   "id": "c6e912fb",
   "metadata": {},
   "outputs": [],
   "source": [
    "Step 10: Extracting Cluster Information\n",
    "# Getting cluster centers and labels"
   ]
  },
  {
   "cell_type": "code",
   "execution_count": 48,
   "id": "baee0c59",
   "metadata": {},
   "outputs": [],
   "source": [
    "cluster_centers = kmeans.cluster_centers_\n",
    "cluster_labels = kmeans.labels_"
   ]
  },
  {
   "cell_type": "code",
   "execution_count": null,
   "id": "9f3367b9",
   "metadata": {},
   "outputs": [],
   "source": [
    "Step 11: Adding the cluster labels to the original dat"
   ]
  },
  {
   "cell_type": "code",
   "execution_count": 49,
   "id": "415e1fab",
   "metadata": {},
   "outputs": [],
   "source": [
    "data['cluster_label'] = cluster_labels"
   ]
  },
  {
   "cell_type": "code",
   "execution_count": null,
   "id": "ecdebd97",
   "metadata": {},
   "outputs": [],
   "source": [
    "Step 12: Visualizing the clusters "
   ]
  },
  {
   "cell_type": "code",
   "execution_count": 50,
   "id": "a9c4b7df",
   "metadata": {},
   "outputs": [],
   "source": [
    "import matplotlib.pyplot as plt"
   ]
  },
  {
   "cell_type": "code",
   "execution_count": 51,
   "id": "3e98c0ee",
   "metadata": {},
   "outputs": [
    {
     "data": {
      "image/png": "[encoded data removed]",
      "text/plain": [
       "<Figure size 640x480 with 1 Axes>"
      ]
     },
     "metadata": {},
     "output_type": "display_data"
    }
   ],
   "source": [
    "plt.scatter(X_scaled[:, 0], cluster_labels, c=cluster_labels, cmap='rainbow')\n",
    "plt.scatter(cluster_centers[:, 0], range(n_clusters), c='black', marker='x')\n",
    "plt.xlabel('Loan Amount (Standardized)')\n",
    "plt.ylabel('Cluster Label')\n",
    "plt.title('K-means Clustering')\n",
    "plt.show()"
   ]
  },
  {
   "cell_type": "code",
   "execution_count": null,
   "id": "30fbb4f5",
   "metadata": {},
   "outputs": [],
   "source": [
    "Conclsusion summary"
   ]
  },
  {
   "cell_type": "markdown",
   "id": "3e99903a",
   "metadata": {},
   "source": [
    "In this code, I used the K-means clustering algorithm to group the loans based on the 'loan_amount' column. I then preprocess the data by standardizing the 'loan_amount' column, selected the number of clusters (K), and fit the K-means model. The clusters' information can then be analyzed to draw insights about loan patterns based on loan amounts.\n",
    "\n",
    "Bear in mind that clustering is an unsupervised learning technique, so I am not predicting loan defaults but rather discovering patterns in the data based on the 'loan_amount' column. If I would to have other features in the dataset that can be used for supervised learning, I can consider different models for prediction tasks."
   ]
  }
 ],
 "metadata": {
  "kernelspec": {
   "display_name": "Python 3 (ipykernel)",
   "language": "python",
   "name": "python3"
  },
  "language_info": {
   "codemirror_mode": {
    "name": "ipython",
    "version": 3
   },
   "file_extension": ".py",
   "mimetype": "text/x-python",
   "name": "python",
   "nbconvert_exporter": "python",
   "pygments_lexer": "ipython3",
   "version": "3.11.3"
  }
 },
 "nbformat": 4,
 "nbformat_minor": 5
}
